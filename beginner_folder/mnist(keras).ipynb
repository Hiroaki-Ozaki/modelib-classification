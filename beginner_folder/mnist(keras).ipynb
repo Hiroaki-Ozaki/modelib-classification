{
 "cells": [
  {
   "cell_type": "code",
   "execution_count": 7,
   "metadata": {},
   "outputs": [
    {
     "name": "stdout",
     "output_type": "stream",
     "text": [
      "(60000, 784)\n",
      "(10000, 784)\n"
     ]
    }
   ],
   "source": [
    "import keras\n",
    "import numpy\n",
    "import matplotlib.pyplot as plt\n",
    "from keras.models import Sequential\n",
    "from keras.layers import Dense,Dropout\n",
    "from keras.datasets import mnist\n",
    "from keras.optimizers import RMSprop\n",
    "from keras.callbacks import Callback, CSVLogger\n",
    "#import tensorflow as tf\n",
    "#config = tf.ConfigProto()\n",
    "#config.gpu_options.allow_growth = True\n",
    "#tf.keras.backend.set_session(tf.Session(config=config))\n",
    "\n",
    "(x_train,y_train),(x_test,y_test) = mnist.load_data()\n",
    "x_train = x_train.reshape(x_train.shape[0],784)/255\n",
    "x_test = x_test.reshape(x_test.shape[0],784)/255\n",
    "\n",
    "y_train = keras.utils.to_categorical(y_train,10)\n",
    "y_test = keras.utils.to_categorical(y_test,10)\n",
    "\n",
    "print(x_train.shape)\n",
    "print(x_test.shape)"
   ]
  },
  {
   "cell_type": "code",
   "execution_count": 8,
   "metadata": {},
   "outputs": [],
   "source": [
    "#######Please set as you like#########\n",
    "batch_size = 128\n",
    "epochs = 10\n",
    "dropout = 0.2\n",
    "learning_rate = 0.001\n",
    "\n",
    "loss = 'categorical_crossentropy'\n",
    "optimizer=RMSprop(lr = learning_rate)\n",
    "\n",
    "csv_create_path = './keras_trainlog.csv'\n",
    "loss_figure_save_path = './keras_loss.jpg'\n",
    "acc_figure_save_path = './keras_acc.jpg'\n",
    "######################################"
   ]
  },
  {
   "cell_type": "code",
   "execution_count": 17,
   "metadata": {},
   "outputs": [
    {
     "name": "stdout",
     "output_type": "stream",
     "text": [
      "_________________________________________________________________\n",
      "Layer (type)                 Output Shape              Param #   \n",
      "=================================================================\n",
      "dense_13 (Dense)             (None, 512)               401920    \n",
      "_________________________________________________________________\n",
      "dropout_9 (Dropout)          (None, 512)               0         \n",
      "_________________________________________________________________\n",
      "dense_14 (Dense)             (None, 512)               262656    \n",
      "_________________________________________________________________\n",
      "dropout_10 (Dropout)         (None, 512)               0         \n",
      "_________________________________________________________________\n",
      "dense_15 (Dense)             (None, 10)                5130      \n",
      "=================================================================\n",
      "Total params: 669,706\n",
      "Trainable params: 669,706\n",
      "Non-trainable params: 0\n",
      "_________________________________________________________________\n",
      "Train on 60000 samples, validate on 10000 samples\n",
      "Epoch 1/10\n",
      "60000/60000 [==============================] - 16s 274us/step - loss: 0.2467 - acc: 0.9242 - val_loss: 0.1225 - val_acc: 0.9627\n",
      "Epoch 2/10\n",
      "60000/60000 [==============================] - 16s 268us/step - loss: 0.1040 - acc: 0.9687 - val_loss: 0.0956 - val_acc: 0.9716\n",
      "Epoch 3/10\n",
      "60000/60000 [==============================] - 16s 267us/step - loss: 0.0762 - acc: 0.9768 - val_loss: 0.0710 - val_acc: 0.9794\n",
      "Epoch 4/10\n",
      "60000/60000 [==============================] - 16s 267us/step - loss: 0.0590 - acc: 0.9819 - val_loss: 0.0722 - val_acc: 0.9794\n",
      "Epoch 5/10\n",
      "60000/60000 [==============================] - 16s 269us/step - loss: 0.0488 - acc: 0.9855 - val_loss: 0.0840 - val_acc: 0.9796\n",
      "Epoch 6/10\n",
      "60000/60000 [==============================] - 16s 271us/step - loss: 0.0442 - acc: 0.9871 - val_loss: 0.0734 - val_acc: 0.98175 -\n",
      "Epoch 7/10\n",
      "60000/60000 [==============================] - 16s 271us/step - loss: 0.0381 - acc: 0.9883 - val_loss: 0.0787 - val_acc: 0.9814\n",
      "Epoch 8/10\n",
      "60000/60000 [==============================] - 16s 269us/step - loss: 0.0305 - acc: 0.9913 - val_loss: 0.0774 - val_acc: 0.9829\n",
      "Epoch 9/10\n",
      "60000/60000 [==============================] - 16s 267us/step - loss: 0.0323 - acc: 0.9908 - val_loss: 0.0810 - val_acc: 0.9818\n",
      "Epoch 10/10\n",
      "60000/60000 [==============================] - 16s 265us/step - loss: 0.0301 - acc: 0.9913 - val_loss: 0.0861 - val_acc: 0.9826\n",
      "Test loss: 0.08613034341206022\n",
      "Test accuracy: 0.9826\n"
     ]
    }
   ],
   "source": [
    "model = Sequential()\n",
    "model.add(Dense(512, activation='relu', input_shape=(784,)))\n",
    "model.add(Dropout(dropout))\n",
    "model.add(Dense(512, activation='relu'))\n",
    "model.add(Dropout(dropout))\n",
    "model.add(Dense(10, activation='softmax'))\n",
    "\n",
    "model.compile(loss=loss,\n",
    "              optimizer=optimizer,\n",
    "              metrics=['accuracy'])\n",
    "\n",
    "model.summary()\n",
    "\n",
    "csv_logger = CSVLogger(csv_create_path)\n",
    "\n",
    "history = model.fit(x_train, y_train,\n",
    "                    batch_size=batch_size,\n",
    "                    epochs=epochs,\n",
    "                    verbose=1,\n",
    "                    validation_data=(x_test, y_test),\n",
    "                    callbacks=[csv_logger])\n",
    "\n",
    "score = model.evaluate(x_test, y_test, verbose=0)\n",
    "print('Test loss:', score[0])\n",
    "print('Test accuracy:', score[1])"
   ]
  },
  {
   "cell_type": "code",
   "execution_count": 11,
   "metadata": {},
   "outputs": [
    {
     "data": {
      "image/png": "[encoded data removed]",
      "text/plain": [
       "<Figure size 432x288 with 1 Axes>"
      ]
     },
     "metadata": {
      "needs_background": "light"
     },
     "output_type": "display_data"
    }
   ],
   "source": [
    "loss = history.history[\"loss\"]\n",
    "val_loss = history.history[\"val_loss\"]\n",
    "\n",
    "learning_count = len(loss)+1\n",
    "\n",
    "plt.plot(range(1,learning_count),loss,marker = \"+\",label = \"loss\")\n",
    "plt.plot(range(1,learning_count),val_loss,marker = \".\",label = \"val_loss\")\n",
    "plt.legend(loc = \"best\",fontsize = 10)\n",
    "plt.xlabel(\"learning_count\")\n",
    "plt.ylabel(\"loss\")\n",
    "plt.savefig(loss_figure_save_path)"
   ]
  },
  {
   "cell_type": "code",
   "execution_count": 12,
   "metadata": {},
   "outputs": [
    {
     "data": {
      "image/png": "[encoded data removed]",
      "text/plain": [
       "<Figure size 432x288 with 1 Axes>"
      ]
     },
     "metadata": {
      "needs_background": "light"
     },
     "output_type": "display_data"
    }
   ],
   "source": [
    "loss = history.history[\"acc\"]\n",
    "val_loss = history.history[\"val_acc\"]\n",
    "\n",
    "learning_count = len(loss)+1\n",
    "\n",
    "plt.plot(range(1,learning_count),loss,marker = \"+\",label = \"acc\")\n",
    "plt.plot(range(1,learning_count),val_loss,marker = \".\",label = \"val_acc\")\n",
    "plt.legend(loc = \"best\",fontsize = 10)\n",
    "plt.xlabel(\"learning_count\")\n",
    "plt.ylabel(\"acc\")\n",
    "plt.savefig(acc_figure_save_path)"
   ]
  }
 ],
 "metadata": {
  "kernelspec": {
   "display_name": "TensorFlow-GPU",
   "language": "python",
   "name": "tf-gpu"
  },
  "language_info": {
   "codemirror_mode": {
    "name": "ipython",
    "version": 3
   },
   "file_extension": ".py",
   "mimetype": "text/x-python",
   "name": "python",
   "nbconvert_exporter": "python",
   "pygments_lexer": "ipython3",
   "version": "3.6.10"
  }
 },
 "nbformat": 4,
 "nbformat_minor": 2
}
