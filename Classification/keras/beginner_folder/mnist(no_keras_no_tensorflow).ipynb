{
 "cells": [
  {
   "cell_type": "code",
   "execution_count": 1,
   "metadata": {},
   "outputs": [
    {
     "name": "stderr",
     "output_type": "stream",
     "text": [
      "Using TensorFlow backend.\n",
      "c:\\users\\ozaki hiroaki\\anaconda3\\scripts\\envs\\keras\\lib\\site-packages\\tensorflow\\python\\framework\\dtypes.py:526: FutureWarning: Passing (type, 1) or '1type' as a synonym of type is deprecated; in a future version of numpy, it will be understood as (type, (1,)) / '(1,)type'.\n",
      "  _np_qint8 = np.dtype([(\"qint8\", np.int8, 1)])\n",
      "c:\\users\\ozaki hiroaki\\anaconda3\\scripts\\envs\\keras\\lib\\site-packages\\tensorflow\\python\\framework\\dtypes.py:527: FutureWarning: Passing (type, 1) or '1type' as a synonym of type is deprecated; in a future version of numpy, it will be understood as (type, (1,)) / '(1,)type'.\n",
      "  _np_quint8 = np.dtype([(\"quint8\", np.uint8, 1)])\n",
      "c:\\users\\ozaki hiroaki\\anaconda3\\scripts\\envs\\keras\\lib\\site-packages\\tensorflow\\python\\framework\\dtypes.py:528: FutureWarning: Passing (type, 1) or '1type' as a synonym of type is deprecated; in a future version of numpy, it will be understood as (type, (1,)) / '(1,)type'.\n",
      "  _np_qint16 = np.dtype([(\"qint16\", np.int16, 1)])\n",
      "c:\\users\\ozaki hiroaki\\anaconda3\\scripts\\envs\\keras\\lib\\site-packages\\tensorflow\\python\\framework\\dtypes.py:529: FutureWarning: Passing (type, 1) or '1type' as a synonym of type is deprecated; in a future version of numpy, it will be understood as (type, (1,)) / '(1,)type'.\n",
      "  _np_quint16 = np.dtype([(\"quint16\", np.uint16, 1)])\n",
      "c:\\users\\ozaki hiroaki\\anaconda3\\scripts\\envs\\keras\\lib\\site-packages\\tensorflow\\python\\framework\\dtypes.py:530: FutureWarning: Passing (type, 1) or '1type' as a synonym of type is deprecated; in a future version of numpy, it will be understood as (type, (1,)) / '(1,)type'.\n",
      "  _np_qint32 = np.dtype([(\"qint32\", np.int32, 1)])\n",
      "c:\\users\\ozaki hiroaki\\anaconda3\\scripts\\envs\\keras\\lib\\site-packages\\tensorflow\\python\\framework\\dtypes.py:535: FutureWarning: Passing (type, 1) or '1type' as a synonym of type is deprecated; in a future version of numpy, it will be understood as (type, (1,)) / '(1,)type'.\n",
      "  np_resource = np.dtype([(\"resource\", np.ubyte, 1)])\n"
     ]
    },
    {
     "name": "stdout",
     "output_type": "stream",
     "text": [
      "(60000, 28, 28)\n",
      "(10000, 28, 28)\n"
     ]
    }
   ],
   "source": [
    "import os\n",
    "import csv\n",
    "import numpy as np\n",
    "import matplotlib.pyplot as plt\n",
    "from keras.datasets import mnist\n",
    "\n",
    "#import tensorflow as tf\n",
    "#config = tf.ConfigProto()\n",
    "#config.gpu_options.allow_growth = True\n",
    "#tf.keras.backend.set_session(tf.Session(config=config))\n",
    "\n",
    "(x_train,y_train),(x_test,y_test) = mnist.load_data()\n",
    "print(x_train.shape)\n",
    "print(x_test.shape)\n",
    "\n",
    "x_train = x_train.reshape(60000,784)/255\n",
    "x_test = x_test.reshape(10000,784)/255"
   ]
  },
  {
   "cell_type": "code",
   "execution_count": 2,
   "metadata": {
    "scrolled": true
   },
   "outputs": [],
   "source": [
    "bias0 = [0]*15\n",
    "bias1 = [0]*10\n",
    "re_bias0 = [0]*15\n",
    "re_bias1 = [0]*10\n",
    "weight0 = [[0 for i in range(784)]for i in range(15)]\n",
    "weight1 = [[0 for i in range(15)]for i in range(10)]\n",
    "re_weight0 = [[0 for i in range(784)]for i in range(15)]\n",
    "re_weight1 = [[0 for i in range(15)]for i in range(10)]\n",
    "\n",
    "Input0 = [0]*15\n",
    "Input1 = [0]*10\n",
    "Output0 = [0]*15\n",
    "Output1 = [0]*10\n",
    "\n",
    "Input0_test = [0]*15\n",
    "Input1_test = [0]*10\n",
    "Output0_test = [0]*15\n",
    "Output1_test = [0]*10\n",
    "\n",
    "for i in range(15):\n",
    "    bias0[i] = np.random.rand()*0.1\n",
    "for i in range(10):\n",
    "    bias1[i] = np.random.rand()*0.1\n",
    "for i in range(15):\n",
    "    for j in range(784):\n",
    "        weight0[i][j] = np.random.randn()*0.1\n",
    "for i in range(10):\n",
    "    for j in range(15):\n",
    "        weight1[i][j] = np.random.randn()*0.1"
   ]
  },
  {
   "cell_type": "code",
   "execution_count": 3,
   "metadata": {},
   "outputs": [],
   "source": [
    "def sigmoid(x):\n",
    "    return 1/(1+np.exp(-x))\n",
    "\n",
    "def diff(x):\n",
    "    return  (1-sigmoid(x))*sigmoid(x)    \n",
    "\n",
    "def softmax(x_array):\n",
    "    a = np.max(x_array)\n",
    "    exp_x = np.exp(x_array-a)\n",
    "    sum_exp_x = np.sum(exp_x)\n",
    "    y_array = exp_x/sum_exp_x\n",
    "    return y_array\n",
    "\n",
    "def delta(num,t_n,Op1,Ip1,we1):\n",
    "    sum_1 = 0\n",
    "    for i in range(10):\n",
    "        sum_1 += (Op1[i]-t_n[i])*we1[i][num]*diff(Ip1[i])\n",
    "    return sum_1\n",
    "\n",
    "def back_propagation(Out0,Out1,In0,In1,t_num,x_t,l_rate):\n",
    "    \n",
    "    global weight0\n",
    "    global weight1\n",
    "    global bias0\n",
    "    global bias1\n",
    "    \n",
    "    for i in range(10):\n",
    "        for j in range(15):\n",
    "            re_weight1[i][j] = (Out1[i]-t_num[i])*diff(In1[i])\n",
    "            weight1[i][j] -= l_rate*re_weight1[i][j]*Out0[j]\n",
    "    \n",
    "    for i in range(15):\n",
    "        for j in range(784):\n",
    "            re_weight0[i][j] = delta(i,t_num,Out1,In1,weight1)*diff(In0[i])\n",
    "            weight0[i][j] -= l_rate*re_weight0[i][j]*x_t[j]\n",
    "    \n",
    "    for i in range(10):\n",
    "        re_bias1[i] = (Out1[i]-t_num[i])*diff_sig(In1[i])\n",
    "        bias1[i] -= l_rate*re_bias1[i]\n",
    "        \n",
    "    for i in range(15):\n",
    "        re_bias0[i] = delta(i,t_num,Out1,In1,weight1)*diff(In0[i])\n",
    "        bias0[i] -= l_rate*re_bias0[i]\n",
    "        \n",
    "def accuracy(y_list,t_list,switch):\n",
    "    max_y = np.argmax(y_list,axis=1)\n",
    "    max_t = np.argmax(t_list,axis=1)\n",
    "    if switch == \"train\":\n",
    "        return np.sum(max_y == max_t)/100\n",
    "    elif switch == \"test\":\n",
    "        return np.sum(max_y == max_t) / 10000\n",
    "\n",
    "def sum_of_squares_error(y,t):\n",
    "    return 0.5*np.sum((y-t)**2)\n",
    "        \n",
    "def make_round_num(n):\n",
    "    rounds = [0] * n\n",
    "    for i in range(n):\n",
    "        rounds[i] = i\n",
    "    return rounds\n",
    "\n",
    "def plot_figure(acc, loss, num):\n",
    "    x = make_round_num(num)\n",
    "    y = acc\n",
    "    z = loss\n",
    "    plt.plot(x, y, label = \"accuracy\")\n",
    "    plt.plot(x, z, label = \"loss\")\n",
    "    plt.legend(loc = \"lower right\")\n",
    "    plt.savefig(\"./train_acc_loss.jpg\")\n",
    "    \n",
    "def make_csv(train_acc,train_loss,nb,test_acc,test_loss,words,epoch):\n",
    "    \n",
    "    csvPath = './train_acc_loss.csv'\n",
    "    train_header = [\"round\",\"train_accuracy\",\"train_loss\"]\n",
    "    index = make_round_num(nb)\n",
    "    test_header = [\"\",\"test_accuracy\",\"test_loss\"]\n",
    "    test_data = [\"\", test_acc,test_loss]\n",
    "    input_word = [\"\",\"input_words\",words*100]\n",
    "    epochs = [\"\",\"epochs\",epoch]\n",
    "    null = [\"\"]\n",
    "    \n",
    "    if not os.path.exists(csvPath):\n",
    "        with open(csvPath, 'w') as f:\n",
    "            writer = csv.writer(f, lineterminator='\\n')\n",
    "            writer.writerow(train_header)\n",
    "            for i in range(nb):\n",
    "                writer.writerow([index[i], train_acc[i], train_loss[i]])\n",
    "            writer.writerow(null)\n",
    "            writer.writerow(test_header)\n",
    "            writer.writerow(test_data)\n",
    "            writer.writerow(null)\n",
    "            writer.writerow(input_word)\n",
    "            writer.writerow(epochs)\n",
    "    else:\n",
    "        with open(csvPath, 'a') as f:\n",
    "            writer = csv.writer(f, lineterminator='\\n')\n",
    "            writer.writerow(null)\n",
    "            writer.writerow(train_header)\n",
    "            for i in range(nb):\n",
    "                writer.writerow([index[i], train_acc[i], train_loss[i]])\n",
    "            writer.writerow(null)\n",
    "            writer.writerow(test_header)\n",
    "            writer.writerow(test_data)\n",
    "            writer.writerow(null)\n",
    "            writer.writerow(input_word)\n",
    "            writer.writerow(epochs)"
   ]
  },
  {
   "cell_type": "code",
   "execution_count": 4,
   "metadata": {},
   "outputs": [],
   "source": [
    "####################Please set as you like###############################  \n",
    "learning_rate = 0.1\n",
    "epochs = 3\n",
    "input_words = 3    # max =<600\n",
    "train_loss_acc_figure_save_path = \"./mnist_no_keras_tensorflow_train.jpg\"\n",
    "#########################################################################"
   ]
  },
  {
   "cell_type": "code",
   "execution_count": 5,
   "metadata": {
    "scrolled": true
   },
   "outputs": [
    {
     "name": "stdout",
     "output_type": "stream",
     "text": [
      "0 epochs\n",
      "During 0 round\n",
      "train_accuracy = 0.1\n",
      "train_loss     = 0.42670642159331806\n",
      "During 1 round\n",
      "train_accuracy = 0.13\n",
      "train_loss     = 0.4222323666645328\n",
      "During 2 round\n",
      "train_accuracy = 0.25\n",
      "train_loss     = 0.4657457005214007\n"
     ]
    },
    {
     "data": {
      "image/png": "[encoded data removed]",
      "text/plain": [
       "<Figure size 432x288 with 1 Axes>"
      ]
     },
     "metadata": {
      "needs_background": "light"
     },
     "output_type": "display_data"
    }
   ],
   "source": [
    "all_train_accuracy = []\n",
    "all_train_loss = []\n",
    "\n",
    "for l in range(epochs):\n",
    "    print(str(l)+\" epochs\")\n",
    "    for k in range(input_words):\n",
    "        train_prediction = []\n",
    "        train_answer = []\n",
    "        print(\"During \"+str(l*input_words+k)+\" round\")\n",
    "        for j in range(100):  \n",
    "            for i in range(15):\n",
    "                Input0[i]  = np.dot(x_train[k*100+j],weight0[i])+bias0[i]\n",
    "                Output0[i] = sigmoid(Input0[i])\n",
    "            for i in range(10):\n",
    "                Input1[i] = np.dot(Output0,weight1[i])+bias1[i]\n",
    "            \n",
    "            Output1 = softmax(Input1)        \n",
    "            train_num = [0]*10\n",
    "            train_num[y_train[k*100+j]] = train_num[y_train[k*100+j]]+1\n",
    "        \n",
    "            train_prediction.append(Output1)\n",
    "            train_answer.append(train_num)\n",
    "\n",
    "            back_propagation(Output0,Output1,Input0,Input1,train_num,x_train[k*100+j],learning_rate)\n",
    "            \n",
    "        train_acc = accuracy(train_prediction,train_answer,\"train\")\n",
    "        train_loss = sum_of_squares_error(Output1,train_num)\n",
    "            \n",
    "        print(\"train_accuracy = \"+str(train_acc))\n",
    "        print(\"train_loss     = \"+str(train_loss))\n",
    "            \n",
    "        all_train_accuracy.append(train_acc)\n",
    "        all_train_loss.append(train_loss)\n",
    "    \n",
    "    \n",
    "        \n",
    "number = epochs*input_words          \n",
    "plot_figure(all_train_accuracy, all_train_loss,number)"
   ]
  },
  {
   "cell_type": "code",
   "execution_count": 6,
   "metadata": {},
   "outputs": [
    {
     "name": "stdout",
     "output_type": "stream",
     "text": [
      "test_accuracy = 0.2863\n",
      "test_loss     = 0.45222692289081157\n"
     ]
    }
   ],
   "source": [
    "test_prediction = []\n",
    "test_answer = []\n",
    "\n",
    "for j in range(10000):\n",
    "    for i in range(15):\n",
    "        Input0_test[i] = np.dot(x_test[j],weight0[i])+bias0[i]\n",
    "        Output0_test[i] = sigmoid(Input0_test[i])\n",
    "    for i in range(10):\n",
    "        Input1_test[i] = np.dot(Output0_test,weight1[i])+bias1[i]\n",
    "    Output1_test = softmax(Input1_test)\n",
    "    test_num = [0]*10\n",
    "    test_num[y_test[j]] = test_num[y_test[j]]+1\n",
    "        \n",
    "    test_prediction.append(Output1_test)\n",
    "    test_answer.append(test_num)\n",
    "    \n",
    "test_acc = accuracy(test_prediction,test_answer,\"test\")\n",
    "test_loss = sum_of_squares_error(Output1_test,test_num)\n",
    "    \n",
    "print(\"test_accuracy = \"+str(test_acc))\n",
    "print(\"test_loss     = \"+str(test_loss))\n",
    "\n",
    "make_csv(all_train_accuracy,all_train_loss,number,test_acc,test_loss,input_words,epochs)"
   ]
  },
  {
   "cell_type": "code",
   "execution_count": null,
   "metadata": {},
   "outputs": [],
   "source": [
    "\n"
   ]
  }
 ],
 "metadata": {
  "kernelspec": {
   "display_name": "Python 3",
   "language": "python",
   "name": "python3"
  },
  "language_info": {
   "codemirror_mode": {
    "name": "ipython",
    "version": 3
   },
   "file_extension": ".py",
   "mimetype": "text/x-python",
   "name": "python",
   "nbconvert_exporter": "python",
   "pygments_lexer": "ipython3",
   "version": "3.6.10"
  }
 },
 "nbformat": 4,
 "nbformat_minor": 2
}
