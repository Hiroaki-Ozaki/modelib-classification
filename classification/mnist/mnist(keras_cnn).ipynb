{
 "cells": [
  {
   "cell_type": "code",
   "execution_count": 4,
   "metadata": {
    "scrolled": true
   },
   "outputs": [
    {
     "name": "stdout",
     "output_type": "stream",
     "text": [
      "(60000, 28, 28, 1)\n",
      "(10000, 28, 28, 1)\n"
     ]
    }
   ],
   "source": [
    "import keras\n",
    "import matplotlib.pyplot as plt\n",
    "from keras.models import Sequential\n",
    "from keras.layers import Dense,Flatten\n",
    "from keras.layers import Conv2D,MaxPooling2D\n",
    "from keras.datasets import mnist\n",
    "from keras import optimizers\n",
    "from keras.callbacks import Callback, CSVLogger\n",
    "#import tensorflow as tf\n",
    "#config = tf.ConfigProto()\n",
    "#config.gpu_options.allow_growth = True\n",
    "#tf.keras.backend.set_session(tf.Session(config=config))\n",
    "\n",
    "(x_train,y_train),(x_test,y_test) = mnist.load_data()\n",
    "x_train = x_train.reshape(x_train.shape[0],28,28,1)/255\n",
    "x_test = x_test.reshape(x_test.shape[0],28,28,1)/255\n",
    "\n",
    "y_train = keras.utils.to_categorical(y_train,10)\n",
    "y_test = keras.utils.to_categorical(y_test,10)\n",
    "\n",
    "print(x_train.shape)\n",
    "print(x_test.shape)"
   ]
  },
  {
   "cell_type": "code",
   "execution_count": 10,
   "metadata": {},
   "outputs": [],
   "source": [
    "############Please set as you like############\n",
    "batch_size = 128\n",
    "epochs = 50\n",
    "learning_rate = 0.01\n",
    "\n",
    "loss = \"mean_squared_error\"\n",
    "optimizer = optimizers.SGD(lr = learning_rate)\n",
    "\n",
    "csv_create_path = './keras_cnn_trainlog.csv'\n",
    "loss_figure_save_path = './keras_cnn_loss.jpg'\n",
    "acc_figure_save_path = './keras_cnn_acc.jpg'\n",
    "##############################################"
   ]
  },
  {
   "cell_type": "code",
   "execution_count": 11,
   "metadata": {
    "scrolled": true
   },
   "outputs": [
    {
     "name": "stdout",
     "output_type": "stream",
     "text": [
      "_________________________________________________________________\n",
      "Layer (type)                 Output Shape              Param #   \n",
      "=================================================================\n",
      "conv2d_5 (Conv2D)            (None, 24, 24, 10)        260       \n",
      "_________________________________________________________________\n",
      "max_pooling2d_5 (MaxPooling2 (None, 12, 12, 10)        0         \n",
      "_________________________________________________________________\n",
      "conv2d_6 (Conv2D)            (None, 8, 8, 20)          5020      \n",
      "_________________________________________________________________\n",
      "max_pooling2d_6 (MaxPooling2 (None, 4, 4, 20)          0         \n",
      "_________________________________________________________________\n",
      "flatten_3 (Flatten)          (None, 320)               0         \n",
      "_________________________________________________________________\n",
      "dense_5 (Dense)              (None, 100)               32100     \n",
      "_________________________________________________________________\n",
      "dense_6 (Dense)              (None, 10)                1010      \n",
      "=================================================================\n",
      "Total params: 38,390\n",
      "Trainable params: 38,390\n",
      "Non-trainable params: 0\n",
      "_________________________________________________________________\n",
      "Train on 60000 samples, validate on 10000 samples\n",
      "Epoch 1/50\n",
      "60000/60000 [==============================] - 2s 33us/step - loss: 0.0902 - acc: 0.1016 - val_loss: 0.0900 - val_acc: 0.1129\n",
      "Epoch 2/50\n",
      "60000/60000 [==============================] - 2s 30us/step - loss: 0.0898 - acc: 0.1265 - val_loss: 0.0896 - val_acc: 0.1449\n",
      "Epoch 3/50\n",
      "60000/60000 [==============================] - 2s 30us/step - loss: 0.0895 - acc: 0.1627 - val_loss: 0.0892 - val_acc: 0.1887\n",
      "Epoch 4/50\n",
      "60000/60000 [==============================] - 2s 30us/step - loss: 0.0891 - acc: 0.2095 - val_loss: 0.0888 - val_acc: 0.2376\n",
      "Epoch 5/50\n",
      "60000/60000 [==============================] - 2s 29us/step - loss: 0.0886 - acc: 0.2542 - val_loss: 0.0883 - val_acc: 0.2793\n",
      "Epoch 6/50\n",
      "60000/60000 [==============================] - 2s 30us/step - loss: 0.0881 - acc: 0.2877 - val_loss: 0.0877 - val_acc: 0.3074\n",
      "Epoch 7/50\n",
      "60000/60000 [==============================] - 2s 29us/step - loss: 0.0875 - acc: 0.3141 - val_loss: 0.0870 - val_acc: 0.3331\n",
      "Epoch 8/50\n",
      "60000/60000 [==============================] - 2s 29us/step - loss: 0.0866 - acc: 0.3464 - val_loss: 0.0859 - val_acc: 0.3711\n",
      "Epoch 9/50\n",
      "60000/60000 [==============================] - 2s 29us/step - loss: 0.0853 - acc: 0.4002 - val_loss: 0.0843 - val_acc: 0.4422\n",
      "Epoch 10/50\n",
      "60000/60000 [==============================] - 2s 29us/step - loss: 0.0833 - acc: 0.4753 - val_loss: 0.0817 - val_acc: 0.5146\n",
      "Epoch 11/50\n",
      "60000/60000 [==============================] - 2s 29us/step - loss: 0.0799 - acc: 0.5310 - val_loss: 0.0771 - val_acc: 0.5645\n",
      "Epoch 12/50\n",
      "60000/60000 [==============================] - 2s 29us/step - loss: 0.0739 - acc: 0.5759 - val_loss: 0.0693 - val_acc: 0.6109\n",
      "Epoch 13/50\n",
      "60000/60000 [==============================] - 2s 29us/step - loss: 0.0649 - acc: 0.6297 - val_loss: 0.0589 - val_acc: 0.6704\n",
      "Epoch 14/50\n",
      "60000/60000 [==============================] - 2s 29us/step - loss: 0.0542 - acc: 0.7021 - val_loss: 0.0480 - val_acc: 0.7459\n",
      "Epoch 15/50\n",
      "60000/60000 [==============================] - 2s 29us/step - loss: 0.0447 - acc: 0.7508 - val_loss: 0.0398 - val_acc: 0.7757\n",
      "Epoch 16/50\n",
      "60000/60000 [==============================] - 2s 29us/step - loss: 0.0378 - acc: 0.7775 - val_loss: 0.0335 - val_acc: 0.8084\n",
      "Epoch 17/50\n",
      "60000/60000 [==============================] - 2s 30us/step - loss: 0.0321 - acc: 0.8189 - val_loss: 0.0281 - val_acc: 0.8470\n",
      "Epoch 18/50\n",
      "60000/60000 [==============================] - 2s 30us/step - loss: 0.0274 - acc: 0.8466 - val_loss: 0.0241 - val_acc: 0.8671\n",
      "Epoch 19/50\n",
      "60000/60000 [==============================] - 2s 30us/step - loss: 0.0241 - acc: 0.8622 - val_loss: 0.0215 - val_acc: 0.8786\n",
      "Epoch 20/50\n",
      "60000/60000 [==============================] - 2s 30us/step - loss: 0.0218 - acc: 0.8725 - val_loss: 0.0196 - val_acc: 0.8863\n",
      "Epoch 21/50\n",
      "60000/60000 [==============================] - 2s 30us/step - loss: 0.0202 - acc: 0.8800 - val_loss: 0.0183 - val_acc: 0.8898\n",
      "Epoch 22/50\n",
      "60000/60000 [==============================] - 2s 30us/step - loss: 0.0190 - acc: 0.8854 - val_loss: 0.0172 - val_acc: 0.8938\n",
      "Epoch 23/50\n",
      "60000/60000 [==============================] - 2s 29us/step - loss: 0.0181 - acc: 0.8893 - val_loss: 0.0165 - val_acc: 0.8995\n",
      "Epoch 24/50\n",
      "60000/60000 [==============================] - 2s 29us/step - loss: 0.0173 - acc: 0.8931 - val_loss: 0.0158 - val_acc: 0.9017\n",
      "Epoch 25/50\n",
      "60000/60000 [==============================] - 2s 29us/step - loss: 0.0167 - acc: 0.8961 - val_loss: 0.0153 - val_acc: 0.9052\n",
      "Epoch 26/50\n",
      "60000/60000 [==============================] - 2s 29us/step - loss: 0.0162 - acc: 0.8991 - val_loss: 0.0148 - val_acc: 0.9071\n",
      "Epoch 27/50\n",
      "60000/60000 [==============================] - 2s 29us/step - loss: 0.0157 - acc: 0.9013 - val_loss: 0.0144 - val_acc: 0.9107\n",
      "Epoch 28/50\n",
      "60000/60000 [==============================] - 2s 29us/step - loss: 0.0153 - acc: 0.9033 - val_loss: 0.0140 - val_acc: 0.9131\n",
      "Epoch 29/50\n",
      "60000/60000 [==============================] - 2s 29us/step - loss: 0.0149 - acc: 0.9055 - val_loss: 0.0137 - val_acc: 0.9137\n",
      "Epoch 30/50\n",
      "60000/60000 [==============================] - 2s 29us/step - loss: 0.0146 - acc: 0.9074 - val_loss: 0.0134 - val_acc: 0.9157\n",
      "Epoch 31/50\n",
      "60000/60000 [==============================] - 2s 29us/step - loss: 0.0143 - acc: 0.9092 - val_loss: 0.0131 - val_acc: 0.9180\n",
      "Epoch 32/50\n",
      "60000/60000 [==============================] - 2s 29us/step - loss: 0.0140 - acc: 0.9113 - val_loss: 0.0128 - val_acc: 0.9193\n",
      "Epoch 33/50\n",
      "60000/60000 [==============================] - 2s 29us/step - loss: 0.0137 - acc: 0.9128 - val_loss: 0.0126 - val_acc: 0.9211\n",
      "Epoch 34/50\n",
      "60000/60000 [==============================] - 2s 29us/step - loss: 0.0135 - acc: 0.9140 - val_loss: 0.0123 - val_acc: 0.9232\n",
      "Epoch 35/50\n",
      "60000/60000 [==============================] - 2s 29us/step - loss: 0.0133 - acc: 0.9158 - val_loss: 0.0121 - val_acc: 0.9246\n",
      "Epoch 36/50\n",
      "60000/60000 [==============================] - 2s 29us/step - loss: 0.0130 - acc: 0.9172 - val_loss: 0.0120 - val_acc: 0.9253\n",
      "Epoch 37/50\n",
      "60000/60000 [==============================] - 2s 29us/step - loss: 0.0128 - acc: 0.9184 - val_loss: 0.0117 - val_acc: 0.9265\n",
      "Epoch 38/50\n",
      "60000/60000 [==============================] - 2s 29us/step - loss: 0.0126 - acc: 0.9199 - val_loss: 0.0116 - val_acc: 0.9273\n",
      "Epoch 39/50\n",
      "60000/60000 [==============================] - 2s 29us/step - loss: 0.0124 - acc: 0.9203 - val_loss: 0.0114 - val_acc: 0.9292\n",
      "Epoch 40/50\n",
      "60000/60000 [==============================] - 2s 29us/step - loss: 0.0123 - acc: 0.9219 - val_loss: 0.0112 - val_acc: 0.9303\n",
      "Epoch 41/50\n",
      "60000/60000 [==============================] - 2s 29us/step - loss: 0.0121 - acc: 0.9228 - val_loss: 0.0111 - val_acc: 0.9309\n",
      "Epoch 42/50\n",
      "60000/60000 [==============================] - 2s 29us/step - loss: 0.0119 - acc: 0.9242 - val_loss: 0.0109 - val_acc: 0.9320\n",
      "Epoch 43/50\n",
      "60000/60000 [==============================] - 2s 29us/step - loss: 0.0118 - acc: 0.9252 - val_loss: 0.0108 - val_acc: 0.9338\n",
      "Epoch 44/50\n",
      "60000/60000 [==============================] - 2s 29us/step - loss: 0.0116 - acc: 0.9262 - val_loss: 0.0107 - val_acc: 0.9339\n",
      "Epoch 45/50\n",
      "60000/60000 [==============================] - 2s 29us/step - loss: 0.0115 - acc: 0.9275 - val_loss: 0.0105 - val_acc: 0.9340\n",
      "Epoch 46/50\n",
      "60000/60000 [==============================] - 2s 29us/step - loss: 0.0113 - acc: 0.9282 - val_loss: 0.0104 - val_acc: 0.9356\n",
      "Epoch 47/50\n",
      "60000/60000 [==============================] - 2s 29us/step - loss: 0.0112 - acc: 0.9286 - val_loss: 0.0103 - val_acc: 0.9353\n",
      "Epoch 48/50\n",
      "60000/60000 [==============================] - 2s 29us/step - loss: 0.0111 - acc: 0.9298 - val_loss: 0.0101 - val_acc: 0.9369\n",
      "Epoch 49/50\n",
      "60000/60000 [==============================] - 2s 29us/step - loss: 0.0109 - acc: 0.9310 - val_loss: 0.0100 - val_acc: 0.9371\n",
      "Epoch 50/50\n",
      "60000/60000 [==============================] - 2s 29us/step - loss: 0.0108 - acc: 0.9319 - val_loss: 0.0099 - val_acc: 0.9371\n"
     ]
    },
    {
     "name": "stdout",
     "output_type": "stream",
     "text": [
      "10000/10000 [==============================] - 0s 37us/step\n",
      "test loss: 0.009878885687619913\n",
      "test accuracy: 0.9371\n"
     ]
    }
   ],
   "source": [
    "model = Sequential()\n",
    "model.add(Conv2D(10,kernel_size = (5,5),activation = \"relu\",input_shape = (28,28,1)))\n",
    "model.add(MaxPooling2D(pool_size = (2,2)))\n",
    "model.add(Conv2D(20,(5,5),activation = \"relu\"))\n",
    "model.add(MaxPooling2D(pool_size = (2,2)))\n",
    "model.add(Flatten())\n",
    "model.add(Dense(units = 100,activation = \"relu\"))\n",
    "model.add(Dense(units = 10,activation = \"softmax\"))\n",
    "\n",
    "model.compile(loss = loss,\n",
    "              optimizer = optimizer,\n",
    "              metrics = [\"accuracy\"])\n",
    "\n",
    "model.summary()\n",
    "\n",
    "csv_logger = CSVLogger(csv_create_path)\n",
    "\n",
    "history = model.fit(x_train,y_train,\n",
    "                    epochs = epochs,\n",
    "                    batch_size = batch_size,\n",
    "                    verbose = 1,\n",
    "                    validation_data = (x_test,y_test),\n",
    "                    callbacks=[csv_logger])\n",
    "\n",
    "score = model.evaluate(x_test,y_test,verbose = 1)\n",
    "print(\"test loss:\",score[0])\n",
    "print(\"test accuracy:\",score[1])"
   ]
  },
  {
   "cell_type": "code",
   "execution_count": 12,
   "metadata": {},
   "outputs": [
    {
     "data": {
      "image/png": "[encoded data removed]",
      "text/plain": [
       "<Figure size 432x288 with 1 Axes>"
      ]
     },
     "metadata": {
      "needs_background": "light"
     },
     "output_type": "display_data"
    }
   ],
   "source": [
    "loss = history.history[\"loss\"]\n",
    "val_loss = history.history[\"val_loss\"]\n",
    "\n",
    "learning_count = len(loss)+1\n",
    "\n",
    "plt.plot(range(1,learning_count),loss,marker = \"+\",label = \"loss\")\n",
    "plt.plot(range(1,learning_count),val_loss,marker = \".\",label = \"val_loss\")\n",
    "plt.legend(loc = \"best\",fontsize = 10)\n",
    "plt.xlabel(\"learning_count\")\n",
    "plt.ylabel(\"loss\")\n",
    "plt.savefig(loss_figure_save_path)"
   ]
  },
  {
   "cell_type": "code",
   "execution_count": 13,
   "metadata": {},
   "outputs": [
    {
     "data": {
      "image/png": "[encoded data removed]",
      "text/plain": [
       "<Figure size 432x288 with 1 Axes>"
      ]
     },
     "metadata": {
      "needs_background": "light"
     },
     "output_type": "display_data"
    }
   ],
   "source": [
    "loss = history.history[\"acc\"]\n",
    "val_loss = history.history[\"val_acc\"]\n",
    "\n",
    "learning_count = len(loss)+1\n",
    "\n",
    "plt.plot(range(1,learning_count),loss,marker = \"+\",label = \"acc\")\n",
    "plt.plot(range(1,learning_count),val_loss,marker = \".\",label = \"val_acc\")\n",
    "plt.legend(loc = \"best\",fontsize = 10)\n",
    "plt.xlabel(\"learning_count\")\n",
    "plt.ylabel(\"acc\")\n",
    "plt.savefig(acc_figure_save_path)"
   ]
  },
  {
   "cell_type": "code",
   "execution_count": null,
   "metadata": {},
   "outputs": [],
   "source": []
  }
 ],
 "metadata": {
  "kernelspec": {
   "display_name": "Python 3",
   "language": "python",
   "name": "python3"
  },
  "language_info": {
   "codemirror_mode": {
    "name": "ipython",
    "version": 3
   },
   "file_extension": ".py",
   "mimetype": "text/x-python",
   "name": "python",
   "nbconvert_exporter": "python",
   "pygments_lexer": "ipython3",
   "version": "3.6.10"
  }
 },
 "nbformat": 4,
 "nbformat_minor": 2
}
